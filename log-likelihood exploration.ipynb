{
 "cells": [
  {
   "cell_type": "code",
   "execution_count": 3,
   "metadata": {
    "collapsed": false,
    "hideOutput": true
   },
   "outputs": [
    {
     "name": "stderr",
     "output_type": "stream",
     "text": [
      "WARNING: Method definition forrester(Int64) in module Main at In[2]:5 overwritten at In[3]:5.\n",
      "WARNING: Method definition #forrester(Array{Any, 1}, Main.#forrester, Int64) in module Main overwritten.\n",
      "WARNING: Method definition forrester(Array) in module Main at In[2]:12 overwritten at In[3]:12.\n",
      "WARNING: Method definition forrester(Array, Any) in module Main at In[2]:12 overwritten at In[3]:12.\n",
      "WARNING: Method definition #forrester(Array{Any, 1}, Main.#forrester, Array) in module Main overwritten.\n",
      "WARNING: Method definition #forrester(Array{Any, 1}, Main.#forrester, Array, Any) in module Main overwritten.\n"
     ]
    },
    {
     "data": {
      "text/plain": [
       "forrester (generic function with 3 methods)"
      ]
     },
     "execution_count": 3,
     "metadata": {},
     "output_type": "execute_result"
    }
   ],
   "source": [
    "using PyPlot, GaussianProcesses, Distributions\n",
    "\n",
    "# define Forrester function for some examples\n",
    "function forrester(num_samp::Int;opt_range::Tuple=(0.0,1.0),add_noise::Bool=true, noise::Distributions.Distribution=Normal(0,0.5))\n",
    "    dist = Uniform(opt_range[1],opt_range[2])\n",
    "    x = rand(dist,num_samp)\n",
    "    y = forrester(x,opt_range,add_noise=add_noise,noise=noise)\n",
    "    return x,y,opt_range\n",
    "end\n",
    "\n",
    "function forrester(x::Array, opt_range=(0.0,1.0);add_noise=false, noise=Normal(0,0.5))\n",
    "    if add_noise\n",
    "        noise_vals =  rand(noise,length(x))\n",
    "        if size(x) != size(noise_vals)\n",
    "            println(\"size is wrong, attempting to correct\")\n",
    "            x = x'\n",
    "        end\n",
    "        y = ((6.*x-2).^2.*sin(12.*x-4)) + noise_vals\n",
    "    else\n",
    "        y = ((6.*x-2).^2.*sin(12.*x-4))\n",
    "    end\n",
    "\n",
    "    return y\n",
    "end\n"
   ]
  },
  {
   "cell_type": "code",
   "execution_count": 9,
   "metadata": {
    "collapsed": false,
    "hideCode": false,
    "hidePrompt": false
   },
   "outputs": [
    {
     "data": {
      "text/plain": [
       "([0.899496,0.000641855,0.510854,0.5139,0.408555,0.566976,0.97079,0.417947,0.575767,0.840391],[-0.288609,0.799311,1.12058,7.97672,3.96797,9.32391,12.2339,-2.64232,7.371,-8.762],(0.0,1.0))"
      ]
     },
     "execution_count": 9,
     "metadata": {},
     "output_type": "execute_result"
    }
   ],
   "source": [
    "(xs,ys,range)= forrester(10,add_noise=true,noise=Normal(0,5.0))\n",
    "kern = SE(0.0,0.0)\n",
    "mZero = MeanZero()\n",
    "logObsNoise = 0.0"
   ]
  },
  {
   "cell_type": "code",
   "execution_count": null,
   "metadata": {
    "collapsed": true
   },
   "outputs": [],
   "source": []
  }
 ],
 "metadata": {
  "celltoolbar": "Hide code",
  "kernelspec": {
   "display_name": "Julia 0.5.1-pre",
   "language": "julia",
   "name": "julia-0.5"
  },
  "language_info": {
   "file_extension": ".jl",
   "mimetype": "application/julia",
   "name": "julia",
   "version": "0.5.1"
  }
 },
 "nbformat": 4,
 "nbformat_minor": 2
}
